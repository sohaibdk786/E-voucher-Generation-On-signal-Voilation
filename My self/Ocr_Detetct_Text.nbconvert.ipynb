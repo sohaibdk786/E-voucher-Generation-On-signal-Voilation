{
 "cells": [
  {
   "cell_type": "code",
   "execution_count": 1,
   "metadata": {
    "execution": {
     "iopub.execute_input": "2024-06-13T14:00:20.437693Z",
     "iopub.status.busy": "2024-06-13T14:00:20.437693Z",
     "iopub.status.idle": "2024-06-13T14:00:27.766179Z",
     "shell.execute_reply": "2024-06-13T14:00:27.766179Z"
    }
   },
   "outputs": [
    {
     "name": "stderr",
     "output_type": "stream",
     "text": [
      "Neither CUDA nor MPS are available - defaulting to CPU. Note: This module is much faster with a GPU.\n"
     ]
    },
    {
     "name": "stdout",
     "output_type": "stream",
     "text": [
      "Detected text:\n",
      "SN66 XMZ\n",
      "Detected text saved to 'extracted_text.txt'\n"
     ]
    }
   ],
   "source": [
    "import easyocr\n",
    "import cv2\n",
    "\n",
    "# Load the captured image\n",
    "img_path = \"captured_images/captured_image.jpg\"\n",
    "img = cv2.imread(img_path)\n",
    "\n",
    "# If img is None\n",
    "if img is None:\n",
    "    exit()\n",
    "\n",
    "# Define the reader with the languages and GPU option\n",
    "reader = easyocr.Reader(['en'], gpu=True)\n",
    "\n",
    "# Perform OCR on the image\n",
    "result = reader.readtext(img)\n",
    "\n",
    "# If no text is detected, print message\n",
    "if len(result) == 0:\n",
    "    print(\"No text detected in the image.\")\n",
    "else:\n",
    "    # Extract and save the detected text to a file\n",
    "    with open(\"extracted_text.txt\", \"w\") as file:\n",
    "        print(\"Detected text:\")\n",
    "        for detection in result:\n",
    "            text = detection[1]\n",
    "            print(text)\n",
    "            file.write(text + \"\\n\")\n",
    "    print(\"Detected text saved to 'extracted_text.txt'\")\n"
   ]
  }
 ],
 "metadata": {
  "kernelspec": {
   "display_name": "Python 3",
   "language": "python",
   "name": "python3"
  },
  "language_info": {
   "codemirror_mode": {
    "name": "ipython",
    "version": 3
   },
   "file_extension": ".py",
   "mimetype": "text/x-python",
   "name": "python",
   "nbconvert_exporter": "python",
   "pygments_lexer": "ipython3",
   "version": "3.7.9"
  }
 },
 "nbformat": 4,
 "nbformat_minor": 2
}
